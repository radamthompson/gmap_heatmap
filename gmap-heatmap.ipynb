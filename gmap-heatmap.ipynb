{
 "cells": [
  {
   "cell_type": "code",
   "execution_count": 2,
   "metadata": {},
   "outputs": [],
   "source": [
    "import xml.etree.ElementTree as ET\n",
    "import pandas as pd\n",
    "import numpy as np\n",
    "import os\n",
    "import gmaps\n",
    "import run_heatmap_tools as rht\n"
   ]
  },
  {
   "cell_type": "code",
   "execution_count": 3,
   "metadata": {},
   "outputs": [
    {
     "name": "stdout",
     "output_type": "stream",
     "text": [
      "Enter your Google Maps API token:········\n"
     ]
    }
   ],
   "source": [
    "import getpass\n",
    "gmap_token = getpass.getpass('Enter your Google Maps API token:')"
   ]
  },
  {
   "cell_type": "code",
   "execution_count": 4,
   "metadata": {},
   "outputs": [],
   "source": [
    "gmaps.configure(api_key=gmap_token)"
   ]
  },
  {
   "cell_type": "code",
   "execution_count": 5,
   "metadata": {},
   "outputs": [],
   "source": [
    "folder = os.getcwd()+'\\\\run_logs'"
   ]
  },
  {
   "cell_type": "code",
   "execution_count": 6,
   "metadata": {},
   "outputs": [],
   "source": [
    "# Read all run data, combine into lat & long dataframe\n",
    "lat = []\n",
    "long = []\n",
    "\n",
    "for entry in os.scandir(folder):\n",
    "    if entry.path.endswith(\".tcx\"):\n",
    "       # print(entry.path) # Keeping this here to QC which files are being considered\n",
    "        with open(entry.path,'r',encoding=\"utf-8\") as myFile:\n",
    "            results = rht.parser(myFile, {'{http://www.garmin.com/xmlschemas/TrainingCenterDatabase/v2}LatitudeDegrees', '{http://www.garmin.com/xmlschemas/TrainingCenterDatabase/v2}LongitudeDegrees'})\n",
    "            for tag, text in results:\n",
    "                #print(tag, text)\n",
    "                if tag == '{http://www.garmin.com/xmlschemas/TrainingCenterDatabase/v2}LatitudeDegrees':\n",
    "                    text = float(text)\n",
    "                    lat.append(text)\n",
    "                if tag == '{http://www.garmin.com/xmlschemas/TrainingCenterDatabase/v2}LongitudeDegrees':\n",
    "                    text = float(text)\n",
    "                    long.append(text)\n",
    "        myFile.close()\n",
    "            \n",
    "data = [lat,long]\n",
    "run_df = pd.DataFrame(data)\n",
    "\n",
    "\n",
    "run_df = run_df.transpose()\n",
    "run_df.columns = 'Latitude Longitude'.split()"
   ]
  },
  {
   "cell_type": "code",
   "execution_count": 7,
   "metadata": {},
   "outputs": [
    {
     "data": {
      "application/vnd.jupyter.widget-view+json": {
       "model_id": "608a99f1a25c49f0bed4994928fcb4a3",
       "version_major": 2,
       "version_minor": 0
      },
      "text/plain": [
       "Figure(layout=FigureLayout(height='420px'))"
      ]
     },
     "metadata": {},
     "output_type": "display_data"
    }
   ],
   "source": [
    "# make figure\n",
    "fig = gmaps.figure(map_type='HYBRID')\n",
    "r=run_df[['Latitude','Longitude']]\n",
    "\n",
    "t_layer = gmaps.heatmap_layer(r)\n",
    "t_layer.max_intensity = 200\n",
    "t_layer.point_radius = 7\n",
    "\n",
    "fig.add_layer(t_layer)\n",
    "fig"
   ]
  },
  {
   "cell_type": "code",
   "execution_count": null,
   "metadata": {},
   "outputs": [],
   "source": []
  }
 ],
 "metadata": {
  "kernelspec": {
   "display_name": "Python 3",
   "language": "python",
   "name": "python3"
  },
  "language_info": {
   "codemirror_mode": {
    "name": "ipython",
    "version": 3
   },
   "file_extension": ".py",
   "mimetype": "text/x-python",
   "name": "python",
   "nbconvert_exporter": "python",
   "pygments_lexer": "ipython3",
   "version": "3.5.6"
  }
 },
 "nbformat": 4,
 "nbformat_minor": 4
}
